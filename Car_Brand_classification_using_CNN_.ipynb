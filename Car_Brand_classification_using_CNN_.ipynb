{
  "cells": [
    {
      "cell_type": "code",
      "execution_count": null,
      "metadata": {
        "id": "Bdlw3OyQ2-3L"
      },
      "outputs": [],
      "source": [
        "# import the libraries as shown below\n",
        "\n",
        "from tensorflow.keras.layers import Input, Lambda, Dense, Flatten\n",
        "from tensorflow.keras.models import Model\n",
        "from tensorflow.keras.applications.resnet50 import ResNet50\n",
        "#from keras.applications.vgg16 import VGG16\n",
        "from tensorflow.keras.applications.resnet50 import preprocess_input\n",
        "from tensorflow.keras.preprocessing import image\n",
        "from tensorflow.keras.preprocessing.image import ImageDataGenerator,load_img\n",
        "from tensorflow.keras.models import Sequential\n",
        "import numpy as np\n",
        "from glob import glob\n",
        "import matplotlib.pyplot as pl"
      ]
    },
    {
      "cell_type": "code",
      "execution_count": null,
      "metadata": {
        "id": "FwIpNyjd3tA-"
      },
      "outputs": [],
      "source": [
        "# re-size all the images to this\n",
        "IMAGE_SIZE = [224, 224]\n",
        "train_path = '/content/drive/MyDrive/car brand classification/Datasets/Train'\n",
        "valid_path = '/content/drive/MyDrive/car brand classification/Datasets/Test'"
      ]
    },
    {
      "cell_type": "code",
      "execution_count": null,
      "metadata": {
        "colab": {
          "base_uri": "https://localhost:8080/"
        },
        "id": "zXxbbYIK3tDo",
        "outputId": "c00c4221-4ee4-462a-e5b6-63ca9c6d693b"
      },
      "outputs": [
        {
          "name": "stdout",
          "output_type": "stream",
          "text": [
            "Downloading data from https://storage.googleapis.com/tensorflow/keras-applications/resnet/resnet50_weights_tf_dim_ordering_tf_kernels_notop.h5\n",
            "94773248/94765736 [==============================] - 1s 0us/step\n",
            "94781440/94765736 [==============================] - 1s 0us/step\n"
          ]
        }
      ],
      "source": [
        "# Import the Vgg 16 library as shown below and add preprocessing layer to the front of VGG\n",
        "# Here we will be using imagenet weights\n",
        "\n",
        "resnet = ResNet50(input_shape=IMAGE_SIZE + [3], weights='imagenet', include_top=False)"
      ]
    },
    {
      "cell_type": "code",
      "execution_count": null,
      "metadata": {
        "id": "lDI6Z0un6mJo"
      },
      "outputs": [],
      "source": [
        "# don't train existing weights\n",
        "for layer in resnet.layers:\n",
        "    layer.trainable = False"
      ]
    },
    {
      "cell_type": "code",
      "execution_count": null,
      "metadata": {
        "id": "fZYloEMY6mMn"
      },
      "outputs": [],
      "source": [
        "# useful for getting number of output classes\n",
        "folders = glob('/content/drive/MyDrive/car brand classification/Datasets/Train/*')"
      ]
    },
    {
      "cell_type": "code",
      "execution_count": null,
      "metadata": {
        "colab": {
          "base_uri": "https://localhost:8080/"
        },
        "id": "shGvIjhn6mQj",
        "outputId": "4ce5cb99-ec37-4b0d-fb54-cbd734387a3b"
      },
      "outputs": [
        {
          "data": {
            "text/plain": [
              "['/content/drive/MyDrive/car brand classification/Datasets/Train/lamborghini',\n",
              " '/content/drive/MyDrive/car brand classification/Datasets/Train/mercedes',\n",
              " '/content/drive/MyDrive/car brand classification/Datasets/Train/audi']"
            ]
          },
          "execution_count": 8,
          "metadata": {},
          "output_type": "execute_result"
        }
      ],
      "source": [
        "folders"
      ]
    },
    {
      "cell_type": "code",
      "execution_count": null,
      "metadata": {
        "id": "7H0AinFn6mTA"
      },
      "outputs": [],
      "source": [
        "\n",
        "x = Flatten()(resnet.output)"
      ]
    },
    {
      "cell_type": "code",
      "execution_count": null,
      "metadata": {
        "id": "HlZhmbiV6mVI"
      },
      "outputs": [],
      "source": [
        "prediction = Dense(len(folders), activation='softmax')(x)\n",
        "\n",
        "# create a model object\n",
        "model = Model(inputs=resnet.input, outputs=prediction)"
      ]
    },
    {
      "cell_type": "code",
      "execution_count": null,
      "metadata": {
        "colab": {
          "base_uri": "https://localhost:8080/"
        },
        "id": "uwc4XJ6d6mXL",
        "outputId": "e9f2363f-79f8-4d68-8abf-9e02557a9754"
      },
      "outputs": [
        {
          "name": "stdout",
          "output_type": "stream",
          "text": [
            "Model: \"model\"\n",
            "__________________________________________________________________________________________________\n",
            " Layer (type)                   Output Shape         Param #     Connected to                     \n",
            "==================================================================================================\n",
            " input_1 (InputLayer)           [(None, 224, 224, 3  0           []                               \n",
            "                                )]                                                                \n",
            "                                                                                                  \n",
            " conv1_pad (ZeroPadding2D)      (None, 230, 230, 3)  0           ['input_1[0][0]']                \n",
            "                                                                                                  \n",
            " conv1_conv (Conv2D)            (None, 112, 112, 64  9472        ['conv1_pad[0][0]']              \n",
            "                                )                                                                 \n",
            "                                                                                                  \n",
            " conv1_bn (BatchNormalization)  (None, 112, 112, 64  256         ['conv1_conv[0][0]']             \n",
            "                                )                                                                 \n",
            "                                                                                                  \n",
            " conv1_relu (Activation)        (None, 112, 112, 64  0           ['conv1_bn[0][0]']               \n",
            "                                )                                                                 \n",
            "                                                                                                  \n",
            " pool1_pad (ZeroPadding2D)      (None, 114, 114, 64  0           ['conv1_relu[0][0]']             \n",
            "                                )                                                                 \n",
            "                                                                                                  \n",
            " pool1_pool (MaxPooling2D)      (None, 56, 56, 64)   0           ['pool1_pad[0][0]']              \n",
            "                                                                                                  \n",
            " conv2_block1_1_conv (Conv2D)   (None, 56, 56, 64)   4160        ['pool1_pool[0][0]']             \n",
            "                                                                                                  \n",
            " conv2_block1_1_bn (BatchNormal  (None, 56, 56, 64)  256         ['conv2_block1_1_conv[0][0]']    \n",
            " ization)                                                                                         \n",
            "                                                                                                  \n",
            " conv2_block1_1_relu (Activatio  (None, 56, 56, 64)  0           ['conv2_block1_1_bn[0][0]']      \n",
            " n)                                                                                               \n",
            "                                                                                                  \n",
            " conv2_block1_2_conv (Conv2D)   (None, 56, 56, 64)   36928       ['conv2_block1_1_relu[0][0]']    \n",
            "                                                                                                  \n",
            " conv2_block1_2_bn (BatchNormal  (None, 56, 56, 64)  256         ['conv2_block1_2_conv[0][0]']    \n",
            " ization)                                                                                         \n",
            "                                                                                                  \n",
            " conv2_block1_2_relu (Activatio  (None, 56, 56, 64)  0           ['conv2_block1_2_bn[0][0]']      \n",
            " n)                                                                                               \n",
            "                                                                                                  \n",
            " conv2_block1_0_conv (Conv2D)   (None, 56, 56, 256)  16640       ['pool1_pool[0][0]']             \n",
            "                                                                                                  \n",
            " conv2_block1_3_conv (Conv2D)   (None, 56, 56, 256)  16640       ['conv2_block1_2_relu[0][0]']    \n",
            "                                                                                                  \n",
            " conv2_block1_0_bn (BatchNormal  (None, 56, 56, 256)  1024       ['conv2_block1_0_conv[0][0]']    \n",
            " ization)                                                                                         \n",
            "                                                                                                  \n",
            " conv2_block1_3_bn (BatchNormal  (None, 56, 56, 256)  1024       ['conv2_block1_3_conv[0][0]']    \n",
            " ization)                                                                                         \n",
            "                                                                                                  \n",
            " conv2_block1_add (Add)         (None, 56, 56, 256)  0           ['conv2_block1_0_bn[0][0]',      \n",
            "                                                                  'conv2_block1_3_bn[0][0]']      \n",
            "                                                                                                  \n",
            " conv2_block1_out (Activation)  (None, 56, 56, 256)  0           ['conv2_block1_add[0][0]']       \n",
            "                                                                                                  \n",
            " conv2_block2_1_conv (Conv2D)   (None, 56, 56, 64)   16448       ['conv2_block1_out[0][0]']       \n",
            "                                                                                                  \n",
            " conv2_block2_1_bn (BatchNormal  (None, 56, 56, 64)  256         ['conv2_block2_1_conv[0][0]']    \n",
            " ization)                                                                                         \n",
            "                                                                                                  \n",
            " conv2_block2_1_relu (Activatio  (None, 56, 56, 64)  0           ['conv2_block2_1_bn[0][0]']      \n",
            " n)                                                                                               \n",
            "                                                                                                  \n",
            " conv2_block2_2_conv (Conv2D)   (None, 56, 56, 64)   36928       ['conv2_block2_1_relu[0][0]']    \n",
            "                                                                                                  \n",
            " conv2_block2_2_bn (BatchNormal  (None, 56, 56, 64)  256         ['conv2_block2_2_conv[0][0]']    \n",
            " ization)                                                                                         \n",
            "                                                                                                  \n",
            " conv2_block2_2_relu (Activatio  (None, 56, 56, 64)  0           ['conv2_block2_2_bn[0][0]']      \n",
            " n)                                                                                               \n",
            "                                                                                                  \n",
            " conv2_block2_3_conv (Conv2D)   (None, 56, 56, 256)  16640       ['conv2_block2_2_relu[0][0]']    \n",
            "                                                                                                  \n",
            " conv2_block2_3_bn (BatchNormal  (None, 56, 56, 256)  1024       ['conv2_block2_3_conv[0][0]']    \n",
            " ization)                                                                                         \n",
            "                                                                                                  \n",
            " conv2_block2_add (Add)         (None, 56, 56, 256)  0           ['conv2_block1_out[0][0]',       \n",
            "                                                                  'conv2_block2_3_bn[0][0]']      \n",
            "                                                                                                  \n",
            " conv2_block2_out (Activation)  (None, 56, 56, 256)  0           ['conv2_block2_add[0][0]']       \n",
            "                                                                                                  \n",
            " conv2_block3_1_conv (Conv2D)   (None, 56, 56, 64)   16448       ['conv2_block2_out[0][0]']       \n",
            "                                                                                                  \n",
            " conv2_block3_1_bn (BatchNormal  (None, 56, 56, 64)  256         ['conv2_block3_1_conv[0][0]']    \n",
            " ization)                                                                                         \n",
            "                                                                                                  \n",
            " conv2_block3_1_relu (Activatio  (None, 56, 56, 64)  0           ['conv2_block3_1_bn[0][0]']      \n",
            " n)                                                                                               \n",
            "                                                                                                  \n",
            " conv2_block3_2_conv (Conv2D)   (None, 56, 56, 64)   36928       ['conv2_block3_1_relu[0][0]']    \n",
            "                                                                                                  \n",
            " conv2_block3_2_bn (BatchNormal  (None, 56, 56, 64)  256         ['conv2_block3_2_conv[0][0]']    \n",
            " ization)                                                                                         \n",
            "                                                                                                  \n",
            " conv2_block3_2_relu (Activatio  (None, 56, 56, 64)  0           ['conv2_block3_2_bn[0][0]']      \n",
            " n)                                                                                               \n",
            "                                                                                                  \n",
            " conv2_block3_3_conv (Conv2D)   (None, 56, 56, 256)  16640       ['conv2_block3_2_relu[0][0]']    \n",
            "                                                                                                  \n",
            " conv2_block3_3_bn (BatchNormal  (None, 56, 56, 256)  1024       ['conv2_block3_3_conv[0][0]']    \n",
            " ization)                                                                                         \n",
            "                                                                                                  \n",
            " conv2_block3_add (Add)         (None, 56, 56, 256)  0           ['conv2_block2_out[0][0]',       \n",
            "                                                                  'conv2_block3_3_bn[0][0]']      \n",
            "                                                                                                  \n",
            " conv2_block3_out (Activation)  (None, 56, 56, 256)  0           ['conv2_block3_add[0][0]']       \n",
            "                                                                                                  \n",
            " conv3_block1_1_conv (Conv2D)   (None, 28, 28, 128)  32896       ['conv2_block3_out[0][0]']       \n",
            "                                                                                                  \n",
            " conv3_block1_1_bn (BatchNormal  (None, 28, 28, 128)  512        ['conv3_block1_1_conv[0][0]']    \n",
            " ization)                                                                                         \n",
            "                                                                                                  \n",
            " conv3_block1_1_relu (Activatio  (None, 28, 28, 128)  0          ['conv3_block1_1_bn[0][0]']      \n",
            " n)                                                                                               \n",
            "                                                                                                  \n",
            " conv3_block1_2_conv (Conv2D)   (None, 28, 28, 128)  147584      ['conv3_block1_1_relu[0][0]']    \n",
            "                                                                                                  \n",
            " conv3_block1_2_bn (BatchNormal  (None, 28, 28, 128)  512        ['conv3_block1_2_conv[0][0]']    \n",
            " ization)                                                                                         \n",
            "                                                                                                  \n",
            " conv3_block1_2_relu (Activatio  (None, 28, 28, 128)  0          ['conv3_block1_2_bn[0][0]']      \n",
            " n)                                                                                               \n",
            "                                                                                                  \n",
            " conv3_block1_0_conv (Conv2D)   (None, 28, 28, 512)  131584      ['conv2_block3_out[0][0]']       \n",
            "                                                                                                  \n",
            " conv3_block1_3_conv (Conv2D)   (None, 28, 28, 512)  66048       ['conv3_block1_2_relu[0][0]']    \n",
            "                                                                                                  \n",
            " conv3_block1_0_bn (BatchNormal  (None, 28, 28, 512)  2048       ['conv3_block1_0_conv[0][0]']    \n",
            " ization)                                                                                         \n",
            "                                                                                                  \n",
            " conv3_block1_3_bn (BatchNormal  (None, 28, 28, 512)  2048       ['conv3_block1_3_conv[0][0]']    \n",
            " ization)                                                                                         \n",
            "                                                                                                  \n",
            " conv3_block1_add (Add)         (None, 28, 28, 512)  0           ['conv3_block1_0_bn[0][0]',      \n",
            "                                                                  'conv3_block1_3_bn[0][0]']      \n",
            "                                                                                                  \n",
            " conv3_block1_out (Activation)  (None, 28, 28, 512)  0           ['conv3_block1_add[0][0]']       \n",
            "                                                                                                  \n",
            " conv3_block2_1_conv (Conv2D)   (None, 28, 28, 128)  65664       ['conv3_block1_out[0][0]']       \n",
            "                                                                                                  \n",
            " conv3_block2_1_bn (BatchNormal  (None, 28, 28, 128)  512        ['conv3_block2_1_conv[0][0]']    \n",
            " ization)                                                                                         \n",
            "                                                                                                  \n",
            " conv3_block2_1_relu (Activatio  (None, 28, 28, 128)  0          ['conv3_block2_1_bn[0][0]']      \n",
            " n)                                                                                               \n",
            "                                                                                                  \n",
            " conv3_block2_2_conv (Conv2D)   (None, 28, 28, 128)  147584      ['conv3_block2_1_relu[0][0]']    \n",
            "                                                                                                  \n",
            " conv3_block2_2_bn (BatchNormal  (None, 28, 28, 128)  512        ['conv3_block2_2_conv[0][0]']    \n",
            " ization)                                                                                         \n",
            "                                                                                                  \n",
            " conv3_block2_2_relu (Activatio  (None, 28, 28, 128)  0          ['conv3_block2_2_bn[0][0]']      \n",
            " n)                                                                                               \n",
            "                                                                                                  \n",
            " conv3_block2_3_conv (Conv2D)   (None, 28, 28, 512)  66048       ['conv3_block2_2_relu[0][0]']    \n",
            "                                                                                                  \n",
            " conv3_block2_3_bn (BatchNormal  (None, 28, 28, 512)  2048       ['conv3_block2_3_conv[0][0]']    \n",
            " ization)                                                                                         \n",
            "                                                                                                  \n",
            " conv3_block2_add (Add)         (None, 28, 28, 512)  0           ['conv3_block1_out[0][0]',       \n",
            "                                                                  'conv3_block2_3_bn[0][0]']      \n",
            "                                                                                                  \n",
            " conv3_block2_out (Activation)  (None, 28, 28, 512)  0           ['conv3_block2_add[0][0]']       \n",
            "                                                                                                  \n",
            " conv3_block3_1_conv (Conv2D)   (None, 28, 28, 128)  65664       ['conv3_block2_out[0][0]']       \n",
            "                                                                                                  \n",
            " conv3_block3_1_bn (BatchNormal  (None, 28, 28, 128)  512        ['conv3_block3_1_conv[0][0]']    \n",
            " ization)                                                                                         \n",
            "                                                                                                  \n",
            " conv3_block3_1_relu (Activatio  (None, 28, 28, 128)  0          ['conv3_block3_1_bn[0][0]']      \n",
            " n)                                                                                               \n",
            "                                                                                                  \n",
            " conv3_block3_2_conv (Conv2D)   (None, 28, 28, 128)  147584      ['conv3_block3_1_relu[0][0]']    \n",
            "                                                                                                  \n",
            " conv3_block3_2_bn (BatchNormal  (None, 28, 28, 128)  512        ['conv3_block3_2_conv[0][0]']    \n",
            " ization)                                                                                         \n",
            "                                                                                                  \n",
            " conv3_block3_2_relu (Activatio  (None, 28, 28, 128)  0          ['conv3_block3_2_bn[0][0]']      \n",
            " n)                                                                                               \n",
            "                                                                                                  \n",
            " conv3_block3_3_conv (Conv2D)   (None, 28, 28, 512)  66048       ['conv3_block3_2_relu[0][0]']    \n",
            "                                                                                                  \n",
            " conv3_block3_3_bn (BatchNormal  (None, 28, 28, 512)  2048       ['conv3_block3_3_conv[0][0]']    \n",
            " ization)                                                                                         \n",
            "                                                                                                  \n",
            " conv3_block3_add (Add)         (None, 28, 28, 512)  0           ['conv3_block2_out[0][0]',       \n",
            "                                                                  'conv3_block3_3_bn[0][0]']      \n",
            "                                                                                                  \n",
            " conv3_block3_out (Activation)  (None, 28, 28, 512)  0           ['conv3_block3_add[0][0]']       \n",
            "                                                                                                  \n",
            " conv3_block4_1_conv (Conv2D)   (None, 28, 28, 128)  65664       ['conv3_block3_out[0][0]']       \n",
            "                                                                                                  \n",
            " conv3_block4_1_bn (BatchNormal  (None, 28, 28, 128)  512        ['conv3_block4_1_conv[0][0]']    \n",
            " ization)                                                                                         \n",
            "                                                                                                  \n",
            " conv3_block4_1_relu (Activatio  (None, 28, 28, 128)  0          ['conv3_block4_1_bn[0][0]']      \n",
            " n)                                                                                               \n",
            "                                                                                                  \n",
            " conv3_block4_2_conv (Conv2D)   (None, 28, 28, 128)  147584      ['conv3_block4_1_relu[0][0]']    \n",
            "                                                                                                  \n",
            " conv3_block4_2_bn (BatchNormal  (None, 28, 28, 128)  512        ['conv3_block4_2_conv[0][0]']    \n",
            " ization)                                                                                         \n",
            "                                                                                                  \n",
            " conv3_block4_2_relu (Activatio  (None, 28, 28, 128)  0          ['conv3_block4_2_bn[0][0]']      \n",
            " n)                                                                                               \n",
            "                                                                                                  \n",
            " conv3_block4_3_conv (Conv2D)   (None, 28, 28, 512)  66048       ['conv3_block4_2_relu[0][0]']    \n",
            "                                                                                                  \n",
            " conv3_block4_3_bn (BatchNormal  (None, 28, 28, 512)  2048       ['conv3_block4_3_conv[0][0]']    \n",
            " ization)                                                                                         \n",
            "                                                                                                  \n",
            " conv3_block4_add (Add)         (None, 28, 28, 512)  0           ['conv3_block3_out[0][0]',       \n",
            "                                                                  'conv3_block4_3_bn[0][0]']      \n",
            "                                                                                                  \n",
            " conv3_block4_out (Activation)  (None, 28, 28, 512)  0           ['conv3_block4_add[0][0]']       \n",
            "                                                                                                  \n",
            " conv4_block1_1_conv (Conv2D)   (None, 14, 14, 256)  131328      ['conv3_block4_out[0][0]']       \n",
            "                                                                                                  \n",
            " conv4_block1_1_bn (BatchNormal  (None, 14, 14, 256)  1024       ['conv4_block1_1_conv[0][0]']    \n",
            " ization)                                                                                         \n",
            "                                                                                                  \n",
            " conv4_block1_1_relu (Activatio  (None, 14, 14, 256)  0          ['conv4_block1_1_bn[0][0]']      \n",
            " n)                                                                                               \n",
            "                                                                                                  \n",
            " conv4_block1_2_conv (Conv2D)   (None, 14, 14, 256)  590080      ['conv4_block1_1_relu[0][0]']    \n",
            "                                                                                                  \n",
            " conv4_block1_2_bn (BatchNormal  (None, 14, 14, 256)  1024       ['conv4_block1_2_conv[0][0]']    \n",
            " ization)                                                                                         \n",
            "                                                                                                  \n",
            " conv4_block1_2_relu (Activatio  (None, 14, 14, 256)  0          ['conv4_block1_2_bn[0][0]']      \n",
            " n)                                                                                               \n",
            "                                                                                                  \n",
            " conv4_block1_0_conv (Conv2D)   (None, 14, 14, 1024  525312      ['conv3_block4_out[0][0]']       \n",
            "                                )                                                                 \n",
            "                                                                                                  \n",
            " conv4_block1_3_conv (Conv2D)   (None, 14, 14, 1024  263168      ['conv4_block1_2_relu[0][0]']    \n",
            "                                )                                                                 \n",
            "                                                                                                  \n",
            " conv4_block1_0_bn (BatchNormal  (None, 14, 14, 1024  4096       ['conv4_block1_0_conv[0][0]']    \n",
            " ization)                       )                                                                 \n",
            "                                                                                                  \n",
            " conv4_block1_3_bn (BatchNormal  (None, 14, 14, 1024  4096       ['conv4_block1_3_conv[0][0]']    \n",
            " ization)                       )                                                                 \n",
            "                                                                                                  \n",
            " conv4_block1_add (Add)         (None, 14, 14, 1024  0           ['conv4_block1_0_bn[0][0]',      \n",
            "                                )                                 'conv4_block1_3_bn[0][0]']      \n",
            "                                                                                                  \n",
            " conv4_block1_out (Activation)  (None, 14, 14, 1024  0           ['conv4_block1_add[0][0]']       \n",
            "                                )                                                                 \n",
            "                                                                                                  \n",
            " conv4_block2_1_conv (Conv2D)   (None, 14, 14, 256)  262400      ['conv4_block1_out[0][0]']       \n",
            "                                                                                                  \n",
            " conv4_block2_1_bn (BatchNormal  (None, 14, 14, 256)  1024       ['conv4_block2_1_conv[0][0]']    \n",
            " ization)                                                                                         \n",
            "                                                                                                  \n",
            " conv4_block2_1_relu (Activatio  (None, 14, 14, 256)  0          ['conv4_block2_1_bn[0][0]']      \n",
            " n)                                                                                               \n",
            "                                                                                                  \n",
            " conv4_block2_2_conv (Conv2D)   (None, 14, 14, 256)  590080      ['conv4_block2_1_relu[0][0]']    \n",
            "                                                                                                  \n",
            " conv4_block2_2_bn (BatchNormal  (None, 14, 14, 256)  1024       ['conv4_block2_2_conv[0][0]']    \n",
            " ization)                                                                                         \n",
            "                                                                                                  \n",
            " conv4_block2_2_relu (Activatio  (None, 14, 14, 256)  0          ['conv4_block2_2_bn[0][0]']      \n",
            " n)                                                                                               \n",
            "                                                                                                  \n",
            " conv4_block2_3_conv (Conv2D)   (None, 14, 14, 1024  263168      ['conv4_block2_2_relu[0][0]']    \n",
            "                                )                                                                 \n",
            "                                                                                                  \n",
            " conv4_block2_3_bn (BatchNormal  (None, 14, 14, 1024  4096       ['conv4_block2_3_conv[0][0]']    \n",
            " ization)                       )                                                                 \n",
            "                                                                                                  \n",
            " conv4_block2_add (Add)         (None, 14, 14, 1024  0           ['conv4_block1_out[0][0]',       \n",
            "                                )                                 'conv4_block2_3_bn[0][0]']      \n",
            "                                                                                                  \n",
            " conv4_block2_out (Activation)  (None, 14, 14, 1024  0           ['conv4_block2_add[0][0]']       \n",
            "                                )                                                                 \n",
            "                                                                                                  \n",
            " conv4_block3_1_conv (Conv2D)   (None, 14, 14, 256)  262400      ['conv4_block2_out[0][0]']       \n",
            "                                                                                                  \n",
            " conv4_block3_1_bn (BatchNormal  (None, 14, 14, 256)  1024       ['conv4_block3_1_conv[0][0]']    \n",
            " ization)                                                                                         \n",
            "                                                                                                  \n",
            " conv4_block3_1_relu (Activatio  (None, 14, 14, 256)  0          ['conv4_block3_1_bn[0][0]']      \n",
            " n)                                                                                               \n",
            "                                                                                                  \n",
            " conv4_block3_2_conv (Conv2D)   (None, 14, 14, 256)  590080      ['conv4_block3_1_relu[0][0]']    \n",
            "                                                                                                  \n",
            " conv4_block3_2_bn (BatchNormal  (None, 14, 14, 256)  1024       ['conv4_block3_2_conv[0][0]']    \n",
            " ization)                                                                                         \n",
            "                                                                                                  \n",
            " conv4_block3_2_relu (Activatio  (None, 14, 14, 256)  0          ['conv4_block3_2_bn[0][0]']      \n",
            " n)                                                                                               \n",
            "                                                                                                  \n",
            " conv4_block3_3_conv (Conv2D)   (None, 14, 14, 1024  263168      ['conv4_block3_2_relu[0][0]']    \n",
            "                                )                                                                 \n",
            "                                                                                                  \n",
            " conv4_block3_3_bn (BatchNormal  (None, 14, 14, 1024  4096       ['conv4_block3_3_conv[0][0]']    \n",
            " ization)                       )                                                                 \n",
            "                                                                                                  \n",
            " conv4_block3_add (Add)         (None, 14, 14, 1024  0           ['conv4_block2_out[0][0]',       \n",
            "                                )                                 'conv4_block3_3_bn[0][0]']      \n",
            "                                                                                                  \n",
            " conv4_block3_out (Activation)  (None, 14, 14, 1024  0           ['conv4_block3_add[0][0]']       \n",
            "                                )                                                                 \n",
            "                                                                                                  \n",
            " conv4_block4_1_conv (Conv2D)   (None, 14, 14, 256)  262400      ['conv4_block3_out[0][0]']       \n",
            "                                                                                                  \n",
            " conv4_block4_1_bn (BatchNormal  (None, 14, 14, 256)  1024       ['conv4_block4_1_conv[0][0]']    \n",
            " ization)                                                                                         \n",
            "                                                                                                  \n",
            " conv4_block4_1_relu (Activatio  (None, 14, 14, 256)  0          ['conv4_block4_1_bn[0][0]']      \n",
            " n)                                                                                               \n",
            "                                                                                                  \n",
            " conv4_block4_2_conv (Conv2D)   (None, 14, 14, 256)  590080      ['conv4_block4_1_relu[0][0]']    \n",
            "                                                                                                  \n",
            " conv4_block4_2_bn (BatchNormal  (None, 14, 14, 256)  1024       ['conv4_block4_2_conv[0][0]']    \n",
            " ization)                                                                                         \n",
            "                                                                                                  \n",
            " conv4_block4_2_relu (Activatio  (None, 14, 14, 256)  0          ['conv4_block4_2_bn[0][0]']      \n",
            " n)                                                                                               \n",
            "                                                                                                  \n",
            " conv4_block4_3_conv (Conv2D)   (None, 14, 14, 1024  263168      ['conv4_block4_2_relu[0][0]']    \n",
            "                                )                                                                 \n",
            "                                                                                                  \n",
            " conv4_block4_3_bn (BatchNormal  (None, 14, 14, 1024  4096       ['conv4_block4_3_conv[0][0]']    \n",
            " ization)                       )                                                                 \n",
            "                                                                                                  \n",
            " conv4_block4_add (Add)         (None, 14, 14, 1024  0           ['conv4_block3_out[0][0]',       \n",
            "                                )                                 'conv4_block4_3_bn[0][0]']      \n",
            "                                                                                                  \n",
            " conv4_block4_out (Activation)  (None, 14, 14, 1024  0           ['conv4_block4_add[0][0]']       \n",
            "                                )                                                                 \n",
            "                                                                                                  \n",
            " conv4_block5_1_conv (Conv2D)   (None, 14, 14, 256)  262400      ['conv4_block4_out[0][0]']       \n",
            "                                                                                                  \n",
            " conv4_block5_1_bn (BatchNormal  (None, 14, 14, 256)  1024       ['conv4_block5_1_conv[0][0]']    \n",
            " ization)                                                                                         \n",
            "                                                                                                  \n",
            " conv4_block5_1_relu (Activatio  (None, 14, 14, 256)  0          ['conv4_block5_1_bn[0][0]']      \n",
            " n)                                                                                               \n",
            "                                                                                                  \n",
            " conv4_block5_2_conv (Conv2D)   (None, 14, 14, 256)  590080      ['conv4_block5_1_relu[0][0]']    \n",
            "                                                                                                  \n",
            " conv4_block5_2_bn (BatchNormal  (None, 14, 14, 256)  1024       ['conv4_block5_2_conv[0][0]']    \n",
            " ization)                                                                                         \n",
            "                                                                                                  \n",
            " conv4_block5_2_relu (Activatio  (None, 14, 14, 256)  0          ['conv4_block5_2_bn[0][0]']      \n",
            " n)                                                                                               \n",
            "                                                                                                  \n",
            " conv4_block5_3_conv (Conv2D)   (None, 14, 14, 1024  263168      ['conv4_block5_2_relu[0][0]']    \n",
            "                                )                                                                 \n",
            "                                                                                                  \n",
            " conv4_block5_3_bn (BatchNormal  (None, 14, 14, 1024  4096       ['conv4_block5_3_conv[0][0]']    \n",
            " ization)                       )                                                                 \n",
            "                                                                                                  \n",
            " conv4_block5_add (Add)         (None, 14, 14, 1024  0           ['conv4_block4_out[0][0]',       \n",
            "                                )                                 'conv4_block5_3_bn[0][0]']      \n",
            "                                                                                                  \n",
            " conv4_block5_out (Activation)  (None, 14, 14, 1024  0           ['conv4_block5_add[0][0]']       \n",
            "                                )                                                                 \n",
            "                                                                                                  \n",
            " conv4_block6_1_conv (Conv2D)   (None, 14, 14, 256)  262400      ['conv4_block5_out[0][0]']       \n",
            "                                                                                                  \n",
            " conv4_block6_1_bn (BatchNormal  (None, 14, 14, 256)  1024       ['conv4_block6_1_conv[0][0]']    \n",
            " ization)                                                                                         \n",
            "                                                                                                  \n",
            " conv4_block6_1_relu (Activatio  (None, 14, 14, 256)  0          ['conv4_block6_1_bn[0][0]']      \n",
            " n)                                                                                               \n",
            "                                                                                                  \n",
            " conv4_block6_2_conv (Conv2D)   (None, 14, 14, 256)  590080      ['conv4_block6_1_relu[0][0]']    \n",
            "                                                                                                  \n",
            " conv4_block6_2_bn (BatchNormal  (None, 14, 14, 256)  1024       ['conv4_block6_2_conv[0][0]']    \n",
            " ization)                                                                                         \n",
            "                                                                                                  \n",
            " conv4_block6_2_relu (Activatio  (None, 14, 14, 256)  0          ['conv4_block6_2_bn[0][0]']      \n",
            " n)                                                                                               \n",
            "                                                                                                  \n",
            " conv4_block6_3_conv (Conv2D)   (None, 14, 14, 1024  263168      ['conv4_block6_2_relu[0][0]']    \n",
            "                                )                                                                 \n",
            "                                                                                                  \n",
            " conv4_block6_3_bn (BatchNormal  (None, 14, 14, 1024  4096       ['conv4_block6_3_conv[0][0]']    \n",
            " ization)                       )                                                                 \n",
            "                                                                                                  \n",
            " conv4_block6_add (Add)         (None, 14, 14, 1024  0           ['conv4_block5_out[0][0]',       \n",
            "                                )                                 'conv4_block6_3_bn[0][0]']      \n",
            "                                                                                                  \n",
            " conv4_block6_out (Activation)  (None, 14, 14, 1024  0           ['conv4_block6_add[0][0]']       \n",
            "                                )                                                                 \n",
            "                                                                                                  \n",
            " conv5_block1_1_conv (Conv2D)   (None, 7, 7, 512)    524800      ['conv4_block6_out[0][0]']       \n",
            "                                                                                                  \n",
            " conv5_block1_1_bn (BatchNormal  (None, 7, 7, 512)   2048        ['conv5_block1_1_conv[0][0]']    \n",
            " ization)                                                                                         \n",
            "                                                                                                  \n",
            " conv5_block1_1_relu (Activatio  (None, 7, 7, 512)   0           ['conv5_block1_1_bn[0][0]']      \n",
            " n)                                                                                               \n",
            "                                                                                                  \n",
            " conv5_block1_2_conv (Conv2D)   (None, 7, 7, 512)    2359808     ['conv5_block1_1_relu[0][0]']    \n",
            "                                                                                                  \n",
            " conv5_block1_2_bn (BatchNormal  (None, 7, 7, 512)   2048        ['conv5_block1_2_conv[0][0]']    \n",
            " ization)                                                                                         \n",
            "                                                                                                  \n",
            " conv5_block1_2_relu (Activatio  (None, 7, 7, 512)   0           ['conv5_block1_2_bn[0][0]']      \n",
            " n)                                                                                               \n",
            "                                                                                                  \n",
            " conv5_block1_0_conv (Conv2D)   (None, 7, 7, 2048)   2099200     ['conv4_block6_out[0][0]']       \n",
            "                                                                                                  \n",
            " conv5_block1_3_conv (Conv2D)   (None, 7, 7, 2048)   1050624     ['conv5_block1_2_relu[0][0]']    \n",
            "                                                                                                  \n",
            " conv5_block1_0_bn (BatchNormal  (None, 7, 7, 2048)  8192        ['conv5_block1_0_conv[0][0]']    \n",
            " ization)                                                                                         \n",
            "                                                                                                  \n",
            " conv5_block1_3_bn (BatchNormal  (None, 7, 7, 2048)  8192        ['conv5_block1_3_conv[0][0]']    \n",
            " ization)                                                                                         \n",
            "                                                                                                  \n",
            " conv5_block1_add (Add)         (None, 7, 7, 2048)   0           ['conv5_block1_0_bn[0][0]',      \n",
            "                                                                  'conv5_block1_3_bn[0][0]']      \n",
            "                                                                                                  \n",
            " conv5_block1_out (Activation)  (None, 7, 7, 2048)   0           ['conv5_block1_add[0][0]']       \n",
            "                                                                                                  \n",
            " conv5_block2_1_conv (Conv2D)   (None, 7, 7, 512)    1049088     ['conv5_block1_out[0][0]']       \n",
            "                                                                                                  \n",
            " conv5_block2_1_bn (BatchNormal  (None, 7, 7, 512)   2048        ['conv5_block2_1_conv[0][0]']    \n",
            " ization)                                                                                         \n",
            "                                                                                                  \n",
            " conv5_block2_1_relu (Activatio  (None, 7, 7, 512)   0           ['conv5_block2_1_bn[0][0]']      \n",
            " n)                                                                                               \n",
            "                                                                                                  \n",
            " conv5_block2_2_conv (Conv2D)   (None, 7, 7, 512)    2359808     ['conv5_block2_1_relu[0][0]']    \n",
            "                                                                                                  \n",
            " conv5_block2_2_bn (BatchNormal  (None, 7, 7, 512)   2048        ['conv5_block2_2_conv[0][0]']    \n",
            " ization)                                                                                         \n",
            "                                                                                                  \n",
            " conv5_block2_2_relu (Activatio  (None, 7, 7, 512)   0           ['conv5_block2_2_bn[0][0]']      \n",
            " n)                                                                                               \n",
            "                                                                                                  \n",
            " conv5_block2_3_conv (Conv2D)   (None, 7, 7, 2048)   1050624     ['conv5_block2_2_relu[0][0]']    \n",
            "                                                                                                  \n",
            " conv5_block2_3_bn (BatchNormal  (None, 7, 7, 2048)  8192        ['conv5_block2_3_conv[0][0]']    \n",
            " ization)                                                                                         \n",
            "                                                                                                  \n",
            " conv5_block2_add (Add)         (None, 7, 7, 2048)   0           ['conv5_block1_out[0][0]',       \n",
            "                                                                  'conv5_block2_3_bn[0][0]']      \n",
            "                                                                                                  \n",
            " conv5_block2_out (Activation)  (None, 7, 7, 2048)   0           ['conv5_block2_add[0][0]']       \n",
            "                                                                                                  \n",
            " conv5_block3_1_conv (Conv2D)   (None, 7, 7, 512)    1049088     ['conv5_block2_out[0][0]']       \n",
            "                                                                                                  \n",
            " conv5_block3_1_bn (BatchNormal  (None, 7, 7, 512)   2048        ['conv5_block3_1_conv[0][0]']    \n",
            " ization)                                                                                         \n",
            "                                                                                                  \n",
            " conv5_block3_1_relu (Activatio  (None, 7, 7, 512)   0           ['conv5_block3_1_bn[0][0]']      \n",
            " n)                                                                                               \n",
            "                                                                                                  \n",
            " conv5_block3_2_conv (Conv2D)   (None, 7, 7, 512)    2359808     ['conv5_block3_1_relu[0][0]']    \n",
            "                                                                                                  \n",
            " conv5_block3_2_bn (BatchNormal  (None, 7, 7, 512)   2048        ['conv5_block3_2_conv[0][0]']    \n",
            " ization)                                                                                         \n",
            "                                                                                                  \n",
            " conv5_block3_2_relu (Activatio  (None, 7, 7, 512)   0           ['conv5_block3_2_bn[0][0]']      \n",
            " n)                                                                                               \n",
            "                                                                                                  \n",
            " conv5_block3_3_conv (Conv2D)   (None, 7, 7, 2048)   1050624     ['conv5_block3_2_relu[0][0]']    \n",
            "                                                                                                  \n",
            " conv5_block3_3_bn (BatchNormal  (None, 7, 7, 2048)  8192        ['conv5_block3_3_conv[0][0]']    \n",
            " ization)                                                                                         \n",
            "                                                                                                  \n",
            " conv5_block3_add (Add)         (None, 7, 7, 2048)   0           ['conv5_block2_out[0][0]',       \n",
            "                                                                  'conv5_block3_3_bn[0][0]']      \n",
            "                                                                                                  \n",
            " conv5_block3_out (Activation)  (None, 7, 7, 2048)   0           ['conv5_block3_add[0][0]']       \n",
            "                                                                                                  \n",
            " flatten (Flatten)              (None, 100352)       0           ['conv5_block3_out[0][0]']       \n",
            "                                                                                                  \n",
            " dense (Dense)                  (None, 3)            301059      ['flatten[0][0]']                \n",
            "                                                                                                  \n",
            "==================================================================================================\n",
            "Total params: 23,888,771\n",
            "Trainable params: 301,059\n",
            "Non-trainable params: 23,587,712\n",
            "__________________________________________________________________________________________________\n"
          ]
        }
      ],
      "source": [
        "# view the structure of the model\n",
        "model.summary()"
      ]
    },
    {
      "cell_type": "code",
      "execution_count": null,
      "metadata": {
        "id": "7j06wWAw3tHk"
      },
      "outputs": [],
      "source": [
        "# tell the model what cost and optimization method to use\n",
        "model.compile(\n",
        "  loss='categorical_crossentropy',\n",
        "  optimizer='adam',\n",
        "  metrics=['accuracy']\n",
        ")"
      ]
    },
    {
      "cell_type": "code",
      "execution_count": null,
      "metadata": {
        "id": "U-bWlE837oM8"
      },
      "outputs": [],
      "source": [
        "# Use the Image Data Generator to import the images from the dataset\n",
        "from tensorflow.keras.preprocessing.image import ImageDataGenerator\n",
        "\n",
        "train_datagen = ImageDataGenerator(rescale = 1./255,\n",
        "                                   shear_range = 0.2,\n",
        "                                   zoom_range = 0.2,\n",
        "                                   horizontal_flip = True)\n",
        "\n",
        "test_datagen = ImageDataGenerator(rescale = 1./255)"
      ]
    },
    {
      "cell_type": "code",
      "execution_count": null,
      "metadata": {
        "colab": {
          "base_uri": "https://localhost:8080/"
        },
        "id": "DPna2yVU7oQk",
        "outputId": "99326b84-3f72-416b-af7d-ecf47ea1565f"
      },
      "outputs": [
        {
          "name": "stdout",
          "output_type": "stream",
          "text": [
            "Found 64 images belonging to 3 classes.\n"
          ]
        }
      ],
      "source": [
        "# Make sure you provide the same target size as initialied for the image size\n",
        "training_set = train_datagen.flow_from_directory('/content/drive/MyDrive/car brand classification/Datasets/Train',\n",
        "                                                 target_size = (224, 224),\n",
        "                                                 batch_size = 32,\n",
        "                                                 class_mode = 'categorical')"
      ]
    },
    {
      "cell_type": "code",
      "execution_count": null,
      "metadata": {
        "colab": {
          "base_uri": "https://localhost:8080/"
        },
        "id": "s9LHfjf47oVA",
        "outputId": "c077af2a-4cd2-4c00-9dba-6660de36057f"
      },
      "outputs": [
        {
          "name": "stdout",
          "output_type": "stream",
          "text": [
            "Found 58 images belonging to 3 classes.\n"
          ]
        }
      ],
      "source": [
        "\n",
        "test_set = test_datagen.flow_from_directory('/content/drive/MyDrive/car brand classification/Datasets/Test',\n",
        "                                            target_size = (224, 224),\n",
        "                                            batch_size = 32,\n",
        "                                            class_mode = 'categorical')"
      ]
    },
    {
      "cell_type": "code",
      "execution_count": null,
      "metadata": {
        "colab": {
          "background_save": true,
          "base_uri": "https://localhost:8080/"
        },
        "id": "sAmBnjFW74ja",
        "outputId": "1a7b3ff6-7757-4b07-9b62-b7e593050ac0"
      },
      "outputs": [
        {
          "name": "stderr",
          "output_type": "stream",
          "text": [
            "/usr/local/lib/python3.7/dist-packages/ipykernel_launcher.py:8: UserWarning: `Model.fit_generator` is deprecated and will be removed in a future version. Please use `Model.fit`, which supports generators.\n",
            "  \n"
          ]
        },
        {
          "name": "stdout",
          "output_type": "stream",
          "text": [
            "Epoch 1/60\n",
            "2/2 [==============================] - 71s 43s/step - loss: 3.8961 - accuracy: 0.4531 - val_loss: 6.7417 - val_accuracy: 0.3276\n",
            "Epoch 2/60\n",
            "2/2 [==============================] - 19s 14s/step - loss: 10.0880 - accuracy: 0.3438 - val_loss: 3.5423 - val_accuracy: 0.5172\n",
            "Epoch 3/60\n",
            "2/2 [==============================] - 19s 14s/step - loss: 5.2804 - accuracy: 0.3281 - val_loss: 3.8816 - val_accuracy: 0.2414\n",
            "Epoch 4/60\n",
            "2/2 [==============================] - 19s 14s/step - loss: 4.2553 - accuracy: 0.4219 - val_loss: 8.0575 - val_accuracy: 0.1552\n",
            "Epoch 5/60\n",
            "2/2 [==============================] - 19s 14s/step - loss: 4.2472 - accuracy: 0.3594 - val_loss: 2.1970 - val_accuracy: 0.3276\n",
            "Epoch 6/60\n",
            "2/2 [==============================] - 20s 14s/step - loss: 2.3428 - accuracy: 0.4688 - val_loss: 2.9933 - val_accuracy: 0.5690\n",
            "Epoch 7/60\n",
            "2/2 [==============================] - 19s 14s/step - loss: 4.1167 - accuracy: 0.4688 - val_loss: 2.1648 - val_accuracy: 0.5690\n",
            "Epoch 8/60\n",
            "2/2 [==============================] - 19s 14s/step - loss: 2.2751 - accuracy: 0.5781 - val_loss: 1.8288 - val_accuracy: 0.3621\n",
            "Epoch 9/60\n",
            "2/2 [==============================] - 19s 14s/step - loss: 1.6585 - accuracy: 0.4844 - val_loss: 3.9275 - val_accuracy: 0.1552\n",
            "Epoch 10/60\n",
            "2/2 [==============================] - 19s 14s/step - loss: 2.3062 - accuracy: 0.4219 - val_loss: 1.4570 - val_accuracy: 0.4138\n",
            "Epoch 11/60\n",
            "2/2 [==============================] - 19s 14s/step - loss: 0.9037 - accuracy: 0.5781 - val_loss: 1.6099 - val_accuracy: 0.6034\n",
            "Epoch 12/60\n",
            "2/2 [==============================] - 20s 14s/step - loss: 1.6029 - accuracy: 0.5469 - val_loss: 1.3888 - val_accuracy: 0.5862\n",
            "Epoch 13/60\n",
            "2/2 [==============================] - 20s 14s/step - loss: 0.9795 - accuracy: 0.6094 - val_loss: 0.9788 - val_accuracy: 0.6034\n",
            "Epoch 14/60\n",
            "2/2 [==============================] - 19s 14s/step - loss: 1.1008 - accuracy: 0.6094 - val_loss: 1.4864 - val_accuracy: 0.3966\n",
            "Epoch 15/60\n",
            "2/2 [==============================] - 19s 14s/step - loss: 0.7836 - accuracy: 0.7031 - val_loss: 0.9924 - val_accuracy: 0.5862\n",
            "Epoch 16/60\n",
            "2/2 [==============================] - 19s 14s/step - loss: 0.6361 - accuracy: 0.7188 - val_loss: 1.1228 - val_accuracy: 0.6379\n",
            "Epoch 17/60\n",
            "2/2 [==============================] - 19s 14s/step - loss: 0.6919 - accuracy: 0.7188 - val_loss: 0.8837 - val_accuracy: 0.6207\n",
            "Epoch 18/60\n",
            "2/2 [==============================] - 19s 14s/step - loss: 0.4808 - accuracy: 0.7969 - val_loss: 1.0601 - val_accuracy: 0.5517\n",
            "Epoch 19/60\n",
            "2/2 [==============================] - 19s 14s/step - loss: 0.6363 - accuracy: 0.7188 - val_loss: 0.8327 - val_accuracy: 0.6552\n",
            "Epoch 20/60\n",
            "2/2 [==============================] - 19s 14s/step - loss: 0.5241 - accuracy: 0.7500 - val_loss: 0.9103 - val_accuracy: 0.7069\n",
            "Epoch 21/60\n",
            "2/2 [==============================] - 19s 14s/step - loss: 0.4757 - accuracy: 0.7969 - val_loss: 0.8180 - val_accuracy: 0.6379\n",
            "Epoch 22/60\n",
            "2/2 [==============================] - 19s 14s/step - loss: 0.3869 - accuracy: 0.8125 - val_loss: 0.9114 - val_accuracy: 0.6207\n",
            "Epoch 23/60\n",
            "2/2 [==============================] - 19s 14s/step - loss: 0.4433 - accuracy: 0.8281 - val_loss: 0.8256 - val_accuracy: 0.6724\n",
            "Epoch 24/60\n",
            "2/2 [==============================] - 19s 14s/step - loss: 0.4110 - accuracy: 0.8125 - val_loss: 0.8801 - val_accuracy: 0.7069\n",
            "Epoch 25/60\n",
            "2/2 [==============================] - 19s 14s/step - loss: 0.4385 - accuracy: 0.7812 - val_loss: 0.8236 - val_accuracy: 0.6897\n",
            "Epoch 26/60\n",
            "2/2 [==============================] - 19s 14s/step - loss: 0.3774 - accuracy: 0.8750 - val_loss: 0.9150 - val_accuracy: 0.5862\n",
            "Epoch 27/60\n",
            "2/2 [==============================] - 19s 14s/step - loss: 0.3589 - accuracy: 0.8594 - val_loss: 0.8427 - val_accuracy: 0.6897\n",
            "Epoch 28/60\n",
            "2/2 [==============================] - 20s 14s/step - loss: 0.3428 - accuracy: 0.8750 - val_loss: 0.8317 - val_accuracy: 0.7069\n",
            "Epoch 29/60\n",
            "2/2 [==============================] - 19s 14s/step - loss: 0.3519 - accuracy: 0.9219 - val_loss: 0.9147 - val_accuracy: 0.6552\n",
            "Epoch 30/60\n",
            "2/2 [==============================] - 19s 14s/step - loss: 0.3224 - accuracy: 0.8906 - val_loss: 0.8497 - val_accuracy: 0.6552\n",
            "Epoch 31/60\n",
            "2/2 [==============================] - 19s 14s/step - loss: 0.2978 - accuracy: 0.8906 - val_loss: 0.8122 - val_accuracy: 0.7414\n",
            "Epoch 32/60\n",
            "2/2 [==============================] - 19s 14s/step - loss: 0.2776 - accuracy: 0.9062 - val_loss: 0.9384 - val_accuracy: 0.6897\n",
            "Epoch 33/60\n",
            "2/2 [==============================] - 19s 14s/step - loss: 0.3445 - accuracy: 0.8281 - val_loss: 0.8091 - val_accuracy: 0.7241\n",
            "Epoch 34/60\n",
            "2/2 [==============================] - 19s 14s/step - loss: 0.3567 - accuracy: 0.8750 - val_loss: 0.8548 - val_accuracy: 0.6552\n",
            "Epoch 35/60\n",
            "2/2 [==============================] - 19s 14s/step - loss: 0.2756 - accuracy: 0.9062 - val_loss: 0.8971 - val_accuracy: 0.7069\n",
            "Epoch 36/60\n",
            "2/2 [==============================] - 19s 14s/step - loss: 0.3015 - accuracy: 0.8906 - val_loss: 0.8082 - val_accuracy: 0.7586\n",
            "Epoch 37/60\n",
            "2/2 [==============================] - 19s 14s/step - loss: 0.2825 - accuracy: 0.8906 - val_loss: 0.8032 - val_accuracy: 0.7586\n",
            "Epoch 38/60\n",
            "2/2 [==============================] - 19s 14s/step - loss: 0.2385 - accuracy: 0.9062 - val_loss: 0.9260 - val_accuracy: 0.6724\n",
            "Epoch 39/60\n",
            "2/2 [==============================] - 19s 14s/step - loss: 0.2704 - accuracy: 0.9219 - val_loss: 0.8076 - val_accuracy: 0.6897\n",
            "Epoch 40/60\n",
            "2/2 [==============================] - 19s 14s/step - loss: 0.2752 - accuracy: 0.9219 - val_loss: 0.8167 - val_accuracy: 0.7586\n",
            "Epoch 41/60\n",
            "2/2 [==============================] - 19s 14s/step - loss: 0.2778 - accuracy: 0.9375 - val_loss: 0.8993 - val_accuracy: 0.6724\n",
            "Epoch 42/60\n",
            "2/2 [==============================] - 19s 14s/step - loss: 0.2316 - accuracy: 0.9531 - val_loss: 0.8136 - val_accuracy: 0.7069\n",
            "Epoch 43/60\n",
            "2/2 [==============================] - 19s 14s/step - loss: 0.2167 - accuracy: 0.9062 - val_loss: 0.7988 - val_accuracy: 0.7586\n",
            "Epoch 44/60\n",
            "2/2 [==============================] - 20s 14s/step - loss: 0.2117 - accuracy: 0.9531 - val_loss: 0.8696 - val_accuracy: 0.6897\n",
            "Epoch 45/60\n",
            "2/2 [==============================] - 20s 14s/step - loss: 0.1948 - accuracy: 0.9688 - val_loss: 0.8365 - val_accuracy: 0.6897\n",
            "Epoch 46/60\n",
            "2/2 [==============================] - 19s 14s/step - loss: 0.1937 - accuracy: 0.9531 - val_loss: 0.8022 - val_accuracy: 0.7931\n",
            "Epoch 47/60\n",
            "2/2 [==============================] - 19s 14s/step - loss: 0.1847 - accuracy: 0.9688 - val_loss: 0.8840 - val_accuracy: 0.7069\n",
            "Epoch 48/60\n",
            "2/2 [==============================] - 19s 14s/step - loss: 0.2155 - accuracy: 0.9219 - val_loss: 0.8392 - val_accuracy: 0.6897\n",
            "Epoch 49/60\n",
            "2/2 [==============================] - 19s 14s/step - loss: 0.1886 - accuracy: 0.9844 - val_loss: 0.8194 - val_accuracy: 0.7586\n",
            "Epoch 50/60\n",
            "2/2 [==============================] - 20s 14s/step - loss: 0.2440 - accuracy: 0.9062 - val_loss: 0.8445 - val_accuracy: 0.7069\n",
            "Epoch 51/60\n",
            "2/2 [==============================] - 20s 14s/step - loss: 0.2534 - accuracy: 0.9062 - val_loss: 0.9270 - val_accuracy: 0.6724\n",
            "Epoch 52/60\n",
            "2/2 [==============================] - 19s 14s/step - loss: 0.2497 - accuracy: 0.9062 - val_loss: 0.8190 - val_accuracy: 0.7586\n",
            "Epoch 53/60\n",
            "2/2 [==============================] - 19s 14s/step - loss: 0.1754 - accuracy: 0.9844 - val_loss: 0.9345 - val_accuracy: 0.6724\n",
            "Epoch 54/60\n",
            "2/2 [==============================] - 19s 14s/step - loss: 0.2447 - accuracy: 0.9375 - val_loss: 0.8516 - val_accuracy: 0.6724\n",
            "Epoch 55/60\n",
            "2/2 [==============================] - 19s 14s/step - loss: 0.2362 - accuracy: 0.9062 - val_loss: 0.8485 - val_accuracy: 0.7586\n",
            "Epoch 56/60\n",
            "2/2 [==============================] - 19s 14s/step - loss: 0.2156 - accuracy: 0.9219 - val_loss: 0.9046 - val_accuracy: 0.7069\n",
            "Epoch 57/60\n",
            "2/2 [==============================] - 19s 14s/step - loss: 0.2439 - accuracy: 0.9219 - val_loss: 0.9163 - val_accuracy: 0.6724\n",
            "Epoch 58/60\n",
            "2/2 [==============================] - 19s 14s/step - loss: 0.2130 - accuracy: 0.9531 - val_loss: 0.8466 - val_accuracy: 0.7586\n",
            "Epoch 59/60\n",
            "2/2 [==============================] - 19s 14s/step - loss: 0.2188 - accuracy: 0.9062 - val_loss: 0.8502 - val_accuracy: 0.7414\n",
            "Epoch 60/60\n",
            "2/2 [==============================] - 19s 14s/step - loss: 0.2262 - accuracy: 0.9375 - val_loss: 0.9134 - val_accuracy: 0.7241\n"
          ]
        }
      ],
      "source": [
        "# fit the model\n",
        "# Run the cell. It will take some time to execute\n",
        "r = model.fit_generator(\n",
        "  training_set,\n",
        "  validation_data=test_set,\n",
        "  epochs=60,\n",
        "  steps_per_epoch=len(training_set),\n",
        "  validation_steps=len(test_set)\n",
        ")"
      ]
    },
    {
      "cell_type": "code",
      "execution_count": null,
      "metadata": {
        "colab": {
          "base_uri": "https://localhost:8080/",
          "height": 530
        },
        "id": "VDkUVG8M74mH",
        "outputId": "ccf0c026-71c4-4de9-ada6-52e245d53859"
      },
      "outputs": [
        {
          "data": {
            "image/png": "[encoded data removed]",
            "text/plain": [
              "<Figure size 432x288 with 1 Axes>"
            ]
          },
          "metadata": {},
          "output_type": "display_data"
        },
        {
          "data": {
            "image/png": "[encoded data removed]",
            "text/plain": [
              "<Figure size 432x288 with 1 Axes>"
            ]
          },
          "metadata": {},
          "output_type": "display_data"
        },
        {
          "data": {
            "text/plain": [
              "<Figure size 432x288 with 0 Axes>"
            ]
          },
          "metadata": {},
          "output_type": "display_data"
        }
      ],
      "source": [
        "# plot the loss\n",
        "import matplotlib.pyplot as plt\n",
        "\n",
        "plt.plot(r.history['loss'], label='train loss')\n",
        "plt.plot(r.history['val_loss'], label='val loss')\n",
        "plt.legend()\n",
        "plt.show()\n",
        "plt.savefig('LossVal_loss')\n",
        "\n",
        "# plot the accuracy\n",
        "plt.plot(r.history['accuracy'], label='train acc')\n",
        "plt.plot(r.history['val_accuracy'], label='val acc')\n",
        "plt.legend()\n",
        "plt.show()\n",
        "plt.savefig('AccVal_acc')"
      ]
    },
    {
      "cell_type": "code",
      "execution_count": null,
      "metadata": {
        "colab": {
          "base_uri": "https://localhost:8080/"
        },
        "id": "hmqHdDAr8I57",
        "outputId": "8f7a7eb8-671b-4a8f-e757-dfa28a1130c6"
      },
      "outputs": [
        {
          "name": "stderr",
          "output_type": "stream",
          "text": [
            "/usr/local/lib/python3.7/dist-packages/keras/engine/functional.py:1410: CustomMaskWarning: Custom mask layers require a config and must override get_config. When loading, the custom mask layer must be passed to the custom_objects argument.\n",
            "  layer_config = serialize_layer_fn(layer)\n"
          ]
        }
      ],
      "source": [
        "# save it as a h5 file\n",
        "\n",
        "\n",
        "from tensorflow.keras.models import load_model\n",
        "\n",
        "model.save('model_resnet50.h5')"
      ]
    },
    {
      "cell_type": "code",
      "execution_count": null,
      "metadata": {
        "id": "7-XlWJes8I8o"
      },
      "outputs": [],
      "source": [
        "y_pred = model.predict(test_set)"
      ]
    },
    {
      "cell_type": "code",
      "execution_count": null,
      "metadata": {
        "colab": {
          "base_uri": "https://localhost:8080/"
        },
        "id": "NH9kx0o48qNN",
        "outputId": "bff3385a-6c57-4cc7-8d3d-ac5d0486e8d9"
      },
      "outputs": [
        {
          "data": {
            "text/plain": [
              "array([[5.28637087e-03, 7.29228780e-02, 9.21790719e-01],\n",
              "       [1.34502922e-03, 9.96012568e-01, 2.64246692e-03],\n",
              "       [5.56639023e-02, 7.40038216e-01, 2.04297885e-01],\n",
              "       [2.74194167e-06, 3.35763488e-03, 9.96639609e-01],\n",
              "       [6.43640244e-03, 9.80554819e-01, 1.30087873e-02],\n",
              "       [5.96532598e-02, 2.22708210e-02, 9.18075860e-01],\n",
              "       [8.64006486e-03, 8.60316038e-01, 1.31043926e-01],\n",
              "       [1.07007800e-02, 8.66103470e-01, 1.23195775e-01],\n",
              "       [2.59786937e-02, 7.88064659e-01, 1.85956582e-01],\n",
              "       [1.43153727e-01, 3.18340771e-02, 8.25012207e-01],\n",
              "       [6.12901337e-02, 2.02600583e-01, 7.36109316e-01],\n",
              "       [5.65727763e-02, 7.39035138e-04, 9.42688167e-01],\n",
              "       [2.48808153e-02, 6.28931701e-01, 3.46187532e-01],\n",
              "       [3.09279859e-02, 4.86136049e-01, 4.82936054e-01],\n",
              "       [5.19135152e-04, 9.89364982e-01, 1.01158172e-02],\n",
              "       [2.99805790e-01, 6.30437136e-01, 6.97571114e-02],\n",
              "       [9.23262089e-02, 6.11613154e-01, 2.96060711e-01],\n",
              "       [8.36038113e-01, 1.57588739e-02, 1.48203015e-01],\n",
              "       [3.64725590e-01, 4.24860507e-01, 2.10413873e-01],\n",
              "       [6.64380938e-03, 9.75703180e-01, 1.76530667e-02],\n",
              "       [9.47289228e-01, 3.76201123e-02, 1.50906779e-02],\n",
              "       [3.11657612e-04, 8.56955647e-01, 1.42732665e-01],\n",
              "       [1.07806157e-02, 9.76910353e-01, 1.23090204e-02],\n",
              "       [5.81564456e-02, 9.10151936e-03, 9.32742059e-01],\n",
              "       [2.77779847e-01, 5.83145440e-01, 1.39074773e-01],\n",
              "       [7.69622862e-01, 2.29298592e-01, 1.07861392e-03],\n",
              "       [6.61753953e-01, 2.36721307e-01, 1.01524778e-01],\n",
              "       [8.40262137e-03, 9.62949812e-01, 2.86476519e-02],\n",
              "       [3.62762138e-02, 6.57160640e-01, 3.06563199e-01],\n",
              "       [8.10045242e-01, 1.71013683e-01, 1.89411268e-02],\n",
              "       [3.90294679e-02, 9.00259197e-01, 6.07113354e-02],\n",
              "       [4.43987623e-02, 4.28730607e-01, 5.26870608e-01],\n",
              "       [1.60112634e-01, 1.80546433e-01, 6.59340978e-01],\n",
              "       [1.32987387e-02, 9.65007544e-01, 2.16937102e-02],\n",
              "       [4.97021465e-05, 9.99024391e-01, 9.25949193e-04],\n",
              "       [1.23921603e-01, 8.05757165e-01, 7.03212544e-02],\n",
              "       [1.94317719e-03, 9.85937893e-01, 1.21189188e-02],\n",
              "       [2.99021661e-01, 6.83020413e-01, 1.79579705e-02],\n",
              "       [6.70917779e-02, 5.75161934e-01, 3.57746214e-01],\n",
              "       [7.91926228e-04, 9.97654676e-01, 1.55339355e-03],\n",
              "       [4.24791612e-02, 8.76623809e-01, 8.08969215e-02],\n",
              "       [1.65401623e-02, 8.69240046e-01, 1.14219844e-01],\n",
              "       [1.90146305e-02, 8.44597995e-01, 1.36387408e-01],\n",
              "       [3.67837260e-03, 7.50345826e-01, 2.45975778e-01],\n",
              "       [1.37893930e-01, 7.06945002e-01, 1.55161098e-01],\n",
              "       [2.23348215e-01, 6.17320836e-01, 1.59330949e-01],\n",
              "       [2.30967440e-03, 9.97341812e-01, 3.48441565e-04],\n",
              "       [2.19531491e-01, 3.78641635e-01, 4.01826859e-01],\n",
              "       [3.67689244e-02, 9.52942848e-01, 1.02882832e-02],\n",
              "       [4.79794852e-02, 1.53709939e-02, 9.36649561e-01],\n",
              "       [9.37068045e-01, 4.93133552e-02, 1.36185223e-02],\n",
              "       [1.88272707e-02, 4.44972575e-01, 5.36200166e-01],\n",
              "       [9.81410682e-01, 1.39876353e-02, 4.60172305e-03],\n",
              "       [6.46930933e-01, 7.95755759e-02, 2.73493439e-01],\n",
              "       [6.38251333e-03, 6.98805451e-01, 2.94812053e-01],\n",
              "       [6.50067432e-06, 4.26538987e-04, 9.99566972e-01],\n",
              "       [4.28213999e-02, 6.71179593e-01, 2.85999030e-01],\n",
              "       [2.25459989e-02, 7.32515473e-03, 9.70128834e-01]], dtype=float32)"
            ]
          },
          "execution_count": 22,
          "metadata": {},
          "output_type": "execute_result"
        }
      ],
      "source": [
        "y_pred\n"
      ]
    },
    {
      "cell_type": "code",
      "execution_count": null,
      "metadata": {
        "id": "iMDPtuNR8tcT"
      },
      "outputs": [],
      "source": [
        "import numpy as np\n",
        "y_pred = np.argmax(y_pred, axis=1)"
      ]
    },
    {
      "cell_type": "code",
      "execution_count": null,
      "metadata": {
        "colab": {
          "base_uri": "https://localhost:8080/"
        },
        "id": "MFdJdxo08tgy",
        "outputId": "a5622f0a-db4a-4d54-811f-285590b13532"
      },
      "outputs": [
        {
          "data": {
            "text/plain": [
              "array([2, 1, 1, 2, 1, 2, 1, 1, 1, 2, 2, 2, 1, 1, 1, 1, 1, 0, 1, 1, 0, 1,\n",
              "       1, 2, 1, 0, 0, 1, 1, 0, 1, 2, 2, 1, 1, 1, 1, 1, 1, 1, 1, 1, 1, 1,\n",
              "       1, 1, 1, 2, 1, 2, 0, 2, 0, 0, 1, 2, 1, 2])"
            ]
          },
          "execution_count": 24,
          "metadata": {},
          "output_type": "execute_result"
        }
      ],
      "source": [
        "y_pred"
      ]
    },
    {
      "cell_type": "code",
      "execution_count": null,
      "metadata": {
        "id": "rkP_GQnd8695"
      },
      "outputs": [],
      "source": [
        "from tensorflow.keras.models import load_model\n",
        "from tensorflow.keras.preprocessing import image"
      ]
    },
    {
      "cell_type": "code",
      "execution_count": null,
      "metadata": {
        "id": "ZvkYlkNJ87B9"
      },
      "outputs": [],
      "source": [
        "model=load_model('model_resnet50.h5')"
      ]
    },
    {
      "cell_type": "code",
      "execution_count": null,
      "metadata": {
        "id": "9w7MBzPb8_RF"
      },
      "outputs": [],
      "source": [
        "img=image.load_img('/content/drive/MyDrive/car brand classification/Datasets/Test/lamborghini/16.jpg',target_size=(224,224))"
      ]
    },
    {
      "cell_type": "code",
      "execution_count": null,
      "metadata": {
        "colab": {
          "base_uri": "https://localhost:8080/"
        },
        "id": "m4A0CuOG8_Un",
        "outputId": "ec77360f-dc70-48bf-cf30-8fd3a265076f"
      },
      "outputs": [
        {
          "data": {
            "text/plain": [
              "array([[[ 22.,  24.,  23.],\n",
              "        [ 12.,  14.,  11.],\n",
              "        [  8.,  10.,   7.],\n",
              "        ...,\n",
              "        [218., 226., 239.],\n",
              "        [209., 217., 230.],\n",
              "        [ 92.,  98., 112.]],\n",
              "\n",
              "       [[ 17.,  19.,  16.],\n",
              "        [ 11.,  13.,  10.],\n",
              "        [  9.,  11.,   8.],\n",
              "        ...,\n",
              "        [215., 223., 236.],\n",
              "        [214., 222., 235.],\n",
              "        [ 74.,  80.,  94.]],\n",
              "\n",
              "       [[ 17.,  19.,  16.],\n",
              "        [ 11.,  13.,  10.],\n",
              "        [  9.,  11.,   8.],\n",
              "        ...,\n",
              "        [215., 223., 236.],\n",
              "        [214., 222., 235.],\n",
              "        [ 74.,  80.,  94.]],\n",
              "\n",
              "       ...,\n",
              "\n",
              "       [[128., 121., 115.],\n",
              "        [120., 113., 107.],\n",
              "        [129., 122., 116.],\n",
              "        ...,\n",
              "        [125., 120., 117.],\n",
              "        [115., 110., 107.],\n",
              "        [102.,  97.,  94.]],\n",
              "\n",
              "       [[128., 121., 115.],\n",
              "        [120., 113., 107.],\n",
              "        [129., 122., 116.],\n",
              "        ...,\n",
              "        [125., 120., 117.],\n",
              "        [115., 110., 107.],\n",
              "        [102.,  97.,  94.]],\n",
              "\n",
              "       [[116., 109., 103.],\n",
              "        [129., 122., 116.],\n",
              "        [108., 101.,  95.],\n",
              "        ...,\n",
              "        [142., 137., 134.],\n",
              "        [122., 117., 114.],\n",
              "        [ 86.,  81.,  78.]]], dtype=float32)"
            ]
          },
          "execution_count": 30,
          "metadata": {},
          "output_type": "execute_result"
        }
      ],
      "source": [
        "x=image.img_to_array(img)\n",
        "x"
      ]
    },
    {
      "cell_type": "code",
      "execution_count": null,
      "metadata": {
        "colab": {
          "base_uri": "https://localhost:8080/"
        },
        "id": "fhZIkwc-9MUx",
        "outputId": "29a702cd-8aff-4671-931b-e1ae8047dd7a"
      },
      "outputs": [
        {
          "data": {
            "text/plain": [
              "(224, 224, 3)"
            ]
          },
          "execution_count": 31,
          "metadata": {},
          "output_type": "execute_result"
        }
      ],
      "source": [
        "x.shape"
      ]
    },
    {
      "cell_type": "code",
      "execution_count": null,
      "metadata": {
        "id": "Vf43RxGu9MeE"
      },
      "outputs": [],
      "source": [
        "x=x/255"
      ]
    },
    {
      "cell_type": "code",
      "execution_count": null,
      "metadata": {
        "colab": {
          "base_uri": "https://localhost:8080/"
        },
        "id": "RGMhwKz39MhA",
        "outputId": "0b9ab241-dada-4d0a-cb80-5b40d1f3b3f0"
      },
      "outputs": [
        {
          "data": {
            "text/plain": [
              "(1, 224, 224, 3)"
            ]
          },
          "execution_count": 33,
          "metadata": {},
          "output_type": "execute_result"
        }
      ],
      "source": [
        "x=np.expand_dims(x,axis=0)\n",
        "img_data=preprocess_input(x)\n",
        "img_data.shape"
      ]
    },
    {
      "cell_type": "code",
      "execution_count": null,
      "metadata": {
        "colab": {
          "base_uri": "https://localhost:8080/"
        },
        "id": "zEfZiVj_9T3e",
        "outputId": "419e18b3-e47f-43c7-8a01-3e05536e69cf"
      },
      "outputs": [
        {
          "data": {
            "text/plain": [
              "array([[0.00249595, 0.0448624 , 0.95264167]], dtype=float32)"
            ]
          },
          "execution_count": 34,
          "metadata": {},
          "output_type": "execute_result"
        }
      ],
      "source": [
        "model.predict(img_data)"
      ]
    },
    {
      "cell_type": "code",
      "execution_count": null,
      "metadata": {
        "id": "SBW-P8qa9T8C"
      },
      "outputs": [],
      "source": [
        "a=np.argmax(model.predict(img_data), axis=1)"
      ]
    },
    {
      "cell_type": "code",
      "execution_count": null,
      "metadata": {
        "colab": {
          "base_uri": "https://localhost:8080/"
        },
        "id": "AJWEFvxp9W9E",
        "outputId": "041e6f4e-a54a-4ec3-c270-34842d77deda"
      },
      "outputs": [
        {
          "data": {
            "text/plain": [
              "array([False])"
            ]
          },
          "execution_count": 36,
          "metadata": {},
          "output_type": "execute_result"
        }
      ],
      "source": [
        "a==1"
      ]
    },
    {
      "cell_type": "code",
      "execution_count": null,
      "metadata": {
        "id": "31GazZl0-u3g"
      },
      "outputs": [],
      "source": [
        ""
      ]
    }
  ],
  "metadata": {
    "accelerator": "GPU",
    "colab": {
      "name": "Car Brand classification using CNN  .ipynb",
      "provenance": []
    },
    "kernelspec": {
      "display_name": "Python 3",
      "name": "python3"
    },
    "language_info": {
      "name": "python"
    }
  },
  "nbformat": 4,
  "nbformat_minor": 0
}